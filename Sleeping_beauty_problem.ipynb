{
 "cells": [
  {
   "cell_type": "code",
   "execution_count": 4,
   "id": "ed337cba-82bb-4423-8801-22337a62ecf5",
   "metadata": {},
   "outputs": [],
   "source": [
    "import numpy as np"
   ]
  },
  {
   "cell_type": "code",
   "execution_count": 57,
   "id": "13299f95-d73b-405e-bec1-7db9adcc6e2c",
   "metadata": {},
   "outputs": [],
   "source": [
    "N = 100000 #days"
   ]
  },
  {
   "cell_type": "code",
   "execution_count": 58,
   "id": "c9193f6d-f892-4eb6-9012-fd1a27cd8337",
   "metadata": {},
   "outputs": [
    {
     "data": {
      "text/plain": [
       "array([[1, 1, 0],\n",
       "       [0, 0, 0],\n",
       "       [0, 1, 0],\n",
       "       ...,\n",
       "       [1, 1, 0],\n",
       "       [1, 1, 0],\n",
       "       [1, 1, 1]])"
      ]
     },
     "execution_count": 58,
     "metadata": {},
     "output_type": "execute_result"
    }
   ],
   "source": [
    "A = np.random.randint(0,2,(N,3))\n",
    "A\n",
    "# 0 : Tails\n",
    "# 1 : Heads\n",
    "# 0th col : H or T \n",
    "# 1st col : Woken next day:1 or sleeping:0\n",
    "# 2nd col : put the sleep and woken next day:1 or not:0"
   ]
  },
  {
   "cell_type": "code",
   "execution_count": 59,
   "id": "c8583943-a43b-4506-9706-16578a87ec5b",
   "metadata": {},
   "outputs": [
    {
     "data": {
      "text/plain": [
       "array([[1, 1, 1],\n",
       "       [0, 0, 0],\n",
       "       [0, 1, 0],\n",
       "       ...,\n",
       "       [1, 1, 1],\n",
       "       [1, 1, 1],\n",
       "       [1, 1, 1]])"
      ]
     },
     "execution_count": 59,
     "metadata": {},
     "output_type": "execute_result"
    }
   ],
   "source": [
    "A[A[:,0]==1,0:3] = 1 # if it is T(=0) woken next day \n",
    "#if it is H (=1) woken next day then put the sleep and woken next day\n",
    "A"
   ]
  },
  {
   "cell_type": "code",
   "execution_count": 60,
   "id": "acd8d818-6b4f-410c-98d8-361c73267a71",
   "metadata": {},
   "outputs": [],
   "source": [
    "# Since it is asked while awake, \n",
    "# we filter the awake:1 in the 2nd and 3rd columns\n"
   ]
  },
  {
   "cell_type": "code",
   "execution_count": 61,
   "id": "44b5b37c-bca7-441a-92fd-8ad434a96e5c",
   "metadata": {},
   "outputs": [
    {
     "data": {
      "text/plain": [
       "149855"
      ]
     },
     "execution_count": 61,
     "metadata": {},
     "output_type": "execute_result"
    }
   ],
   "source": [
    "filt_tot = np.sum(A[:,1]==1) + np.sum(A[:,2]==1)\n",
    "filt_tot"
   ]
  },
  {
   "cell_type": "code",
   "execution_count": 62,
   "id": "f86b765e-5150-45e7-9621-512a75469908",
   "metadata": {},
   "outputs": [],
   "source": [
    "# we can find the ratio of the sum of the number of awake states  \n",
    "# to the sum of the number of column 0ths with Tail"
   ]
  },
  {
   "cell_type": "code",
   "execution_count": 63,
   "id": "b6cde747-e155-40d2-855e-7aa3e99257b0",
   "metadata": {},
   "outputs": [
    {
     "data": {
      "text/plain": [
       "49961"
      ]
     },
     "execution_count": 63,
     "metadata": {},
     "output_type": "execute_result"
    }
   ],
   "source": [
    "tails_tot = np.sum(A[:,0] == 0)\n",
    "tails_tot"
   ]
  },
  {
   "cell_type": "code",
   "execution_count": 64,
   "id": "15d23fe8-b960-41dc-b408-90d62fe16e0e",
   "metadata": {},
   "outputs": [
    {
     "data": {
      "text/plain": [
       "0.3333956157619032"
      ]
     },
     "execution_count": 64,
     "metadata": {},
     "output_type": "execute_result"
    }
   ],
   "source": [
    "prob = tails_tot/filt_tot\n",
    "prob"
   ]
  }
 ],
 "metadata": {
  "kernelspec": {
   "display_name": "Python 3 (ipykernel)",
   "language": "python",
   "name": "python3"
  },
  "language_info": {
   "codemirror_mode": {
    "name": "ipython",
    "version": 3
   },
   "file_extension": ".py",
   "mimetype": "text/x-python",
   "name": "python",
   "nbconvert_exporter": "python",
   "pygments_lexer": "ipython3",
   "version": "3.10.7"
  }
 },
 "nbformat": 4,
 "nbformat_minor": 5
}
